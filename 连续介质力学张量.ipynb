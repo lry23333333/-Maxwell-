{
 "cells": [
  {
   "cell_type": "code",
   "execution_count": 1,
   "id": "fb9fae42",
   "metadata": {},
   "outputs": [],
   "source": [
    "import sympy as sym"
   ]
  },
  {
   "cell_type": "code",
   "execution_count": 2,
   "id": "085f94dd",
   "metadata": {},
   "outputs": [],
   "source": [
    "I = sym.Matrix([[1,0,0],[0,1,0],[0,0,1]])"
   ]
  },
  {
   "cell_type": "code",
   "execution_count": 3,
   "id": "dd90e724",
   "metadata": {},
   "outputs": [],
   "source": [
    "# Spacial variables\n",
    "X = sym.Symbol('X')\n",
    "Y = sym.Symbol('Y')\n",
    "Z = sym.Symbol('Z')\n",
    "\n",
    "# Time variable. The components of F can depend on time.\n",
    "t = sym.Symbol('t')"
   ]
  },
  {
   "cell_type": "code",
   "execution_count": 4,
   "id": "5a54d204",
   "metadata": {},
   "outputs": [],
   "source": [
    "# Deformation Gradient F\n",
    "F11 = sym.Symbol('F11') \n",
    "F12 = sym.Symbol('F12')\n",
    "F13 = sym.Symbol('F13')\n",
    "F21 = sym.Symbol('F21')\n",
    "F22 = sym.Symbol('F22')\n",
    "F23 = sym.Symbol('F23')\n",
    "F31 = sym.Symbol('F31')\n",
    "F32 = sym.Symbol('F32')\n",
    "F33 = sym.Symbol('F33')\n",
    "F = sym.Matrix([[F11,F12,F13], [F21,F22,F23], [F31,F32,F33]])"
   ]
  },
  {
   "cell_type": "code",
   "execution_count": 5,
   "id": "65b0fe6c",
   "metadata": {},
   "outputs": [
    {
     "data": {
      "text/latex": [
       "$\\displaystyle \\left[\\begin{matrix}1 & 2 \\sin{\\left(t \\right)} & 0.5\\\\-0.333 & 1 & - \\sin{\\left(t \\right)}\\\\2 X \\sin{\\left(2 t \\right)} & 0 & 1.5\\end{matrix}\\right]$"
      ],
      "text/plain": [
       "Matrix([\n",
       "[           1, 2*sin(t),     0.5],\n",
       "[      -0.333,        1, -sin(t)],\n",
       "[2*X*sin(2*t),        0,     1.5]])"
      ]
     },
     "execution_count": 5,
     "metadata": {},
     "output_type": "execute_result"
    }
   ],
   "source": [
    "# EXAMPLE OF F \n",
    "\n",
    "F11v=1\n",
    "F12v=2*sym.sin(t)\n",
    "F13v=0.5\n",
    "F21v=-0.333\n",
    "F22v=1\n",
    "F23v=-sym.sin(t)\n",
    "F31v=2*X*sym.sin(2*t)\n",
    "F32v=0\n",
    "F33v=1.5\n",
    "\n",
    "F=F.subs([(F11, F11v), (F12, F12v), \n",
    "          (F13, F13v),(F21, F21v), \n",
    "          (F22, F22v), (F23, F23v),\n",
    "          (F31, F31v), (F32, F32v), \n",
    "          (F33, F33v)])\n",
    "\n",
    "F"
   ]
  },
  {
   "cell_type": "code",
   "execution_count": 6,
   "id": "add85691",
   "metadata": {},
   "outputs": [
    {
     "data": {
      "text/latex": [
       "$\\displaystyle \\left[\\begin{matrix}1 & 0.494807918509046 & 0.5\\\\-0.333 & 1 & -0.247403959254523\\\\0.958851077208406 & 0 & 1.5\\end{matrix}\\right]$"
      ],
      "text/plain": [
       "Matrix([\n",
       "[                1, 0.494807918509046,                0.5],\n",
       "[           -0.333,                 1, -0.247403959254523],\n",
       "[0.958851077208406,                 0,                1.5]])"
      ]
     },
     "execution_count": 6,
     "metadata": {},
     "output_type": "execute_result"
    }
   ],
   "source": [
    "# Let us compute some relevant tensors for this (X,Y,Z) = (1,1,1); t = 0.25s\n",
    "\n",
    "Xv = 1\n",
    "Yv = 1\n",
    "Zv = 1\n",
    "tv = 0.25\n",
    "\n",
    "F=F.subs([(X, Xv), (Y,Yv), (Z,Zv), (t,tv)])\n",
    "\n",
    "F"
   ]
  },
  {
   "cell_type": "code",
   "execution_count": 7,
   "id": "b5c86ffd",
   "metadata": {},
   "outputs": [],
   "source": [
    "# Transpose of F, inverse of F and inverse of Ft\n",
    "Ft = sym.transpose(F)\n",
    "F_inv = F.inv()\n",
    "Ft_inv = Ft.inv()\n",
    "\n",
    "# Invariants of F\n",
    "\n",
    "i1=sym.trace(F)\n",
    "i2 = F[0,0]*F[1,1] + F[1,1]*F[2,2] + F[2,2]*F[0,0] - F[0,1]**2 - F[1,2]**2 - F[2,0]**2\n",
    "i3 = sym.det(F)\n",
    "Jac = i3\n",
    "\n",
    "# Right Cauchy-Green Deformation Tensor C\n",
    "C = Ft*F\n",
    "\n",
    "# Invariants of C\n",
    "\n",
    "i1C=sym.trace(C)\n",
    "i2C = C[0,0]*C[1,1] + C[1,1]*C[2,2] + C[2,2]*C[0,0] - C[0,1]**2 - C[1,2]**2 - C[2,0]**2\n",
    "i3C = sym.det(C)\n",
    "\n",
    "# Left Cauchy-Green Deformation Tensor B\n",
    "B = F*Ft"
   ]
  },
  {
   "cell_type": "code",
   "execution_count": 8,
   "id": "b6e40fb0",
   "metadata": {},
   "outputs": [],
   "source": [
    "# Polar Decomposition: F = R*U\n",
    "U_princ = sym.zeros(3,3)\n",
    "\n",
    "# C = Ft*F = Ut*U\n",
    "\n",
    "[Qt, C_princ] = C.diagonalize()\n",
    "Q = Qt.transpose()                # Q * C * Qt = C_princ\n",
    "\n",
    "for i in range(3): U_princ[i,i] = sym.sqrt(C_princ[i,i])\n",
    "\n",
    "U = Qt * U_princ * Q\n",
    "R = F * U.inv()"
   ]
  },
  {
   "cell_type": "code",
   "execution_count": 9,
   "id": "f1747a41",
   "metadata": {},
   "outputs": [],
   "source": [
    "# Polar Decomposition: F = V*R (Using R which was already found)\n",
    "\n",
    "V = F * R.inv()"
   ]
  },
  {
   "cell_type": "code",
   "execution_count": 34,
   "id": "31827f43",
   "metadata": {},
   "outputs": [
    {
     "data": {
      "text/latex": [
       "$\\displaystyle \\left[\\begin{matrix}1 & 2 \\sin{\\left(t \\right)} & 0.5\\\\-0.333 & 1 & - \\sin{\\left(t \\right)}\\\\2 \\sin{\\left(2 t \\right)} & 0 & 1.5\\end{matrix}\\right]$"
      ],
      "text/plain": [
       "Matrix([\n",
       "[         1, 2*sin(t),     0.5],\n",
       "[    -0.333,        1, -sin(t)],\n",
       "[2*sin(2*t),        0,     1.5]])"
      ]
     },
     "execution_count": 34,
     "metadata": {},
     "output_type": "execute_result"
    }
   ],
   "source": [
    "F"
   ]
  },
  {
   "cell_type": "code",
   "execution_count": 32,
   "id": "ac8ed7c4",
   "metadata": {},
   "outputs": [
    {
     "data": {
      "text/latex": [
       "$\\displaystyle \\left[\\begin{matrix}1.0 & 0.494807918509046 & 0.5\\\\-0.333 & 1.0 & -0.247403959254523\\\\0.958851077208406 & 6.93889390390723 \\cdot 10^{-18} & 1.5\\end{matrix}\\right]$"
      ],
      "text/plain": [
       "Matrix([\n",
       "[              1.0,    0.494807918509046,                0.5],\n",
       "[           -0.333,                  1.0, -0.247403959254523],\n",
       "[0.958851077208406, 6.93889390390723e-18,                1.5]])"
      ]
     },
     "execution_count": 32,
     "metadata": {},
     "output_type": "execute_result"
    }
   ],
   "source": [
    "R * U"
   ]
  },
  {
   "cell_type": "code",
   "execution_count": 33,
   "id": "27d0c6e5",
   "metadata": {},
   "outputs": [
    {
     "data": {
      "text/latex": [
       "$\\displaystyle \\left[\\begin{matrix}1.0 & 0.494807918509046 & 0.5\\\\-0.333 & 1.0 & -0.247403959254523\\\\0.958851077208406 & 1.28369537222284 \\cdot 10^{-16} & 1.5\\end{matrix}\\right]$"
      ],
      "text/plain": [
       "Matrix([\n",
       "[              1.0,    0.494807918509046,                0.5],\n",
       "[           -0.333,                  1.0, -0.247403959254523],\n",
       "[0.958851077208406, 1.28369537222284e-16,                1.5]])"
      ]
     },
     "execution_count": 33,
     "metadata": {},
     "output_type": "execute_result"
    }
   ],
   "source": [
    "V * R"
   ]
  },
  {
   "cell_type": "code",
   "execution_count": 13,
   "id": "98ccf0c0",
   "metadata": {},
   "outputs": [
    {
     "data": {
      "text/latex": [
       "$\\displaystyle \\left[\\begin{matrix}0 & 0.0809039592545229 & 0.729425538604203\\\\0.0809039592545229 & 0 & -0.123701979627261\\\\0.729425538604203 & -0.123701979627261 & 0.5\\end{matrix}\\right]$"
      ],
      "text/plain": [
       "Matrix([\n",
       "[                 0, 0.0809039592545229,  0.729425538604203],\n",
       "[0.0809039592545229,                  0, -0.123701979627261],\n",
       "[ 0.729425538604203, -0.123701979627261,                0.5]])"
      ]
     },
     "execution_count": 13,
     "metadata": {},
     "output_type": "execute_result"
    }
   ],
   "source": [
    "# Small Strains Tensor eps\n",
    "\n",
    "eps = 0.5*(F + Ft) - I\n",
    "eps"
   ]
  },
  {
   "cell_type": "code",
   "execution_count": 14,
   "id": "d7fd44e3",
   "metadata": {},
   "outputs": [
    {
     "data": {
      "text/latex": [
       "$\\displaystyle \\left[\\begin{matrix}0.51514219413186 & 0.0809039592545229 & 1.01033106712218\\\\0.0809039592545229 & 0.122417438109627 & 0\\\\1.01033106712218 & 0 & 0.780604359527407\\end{matrix}\\right]$"
      ],
      "text/plain": [
       "Matrix([\n",
       "[  0.51514219413186, 0.0809039592545229,  1.01033106712218],\n",
       "[0.0809039592545229,  0.122417438109627,                 0],\n",
       "[  1.01033106712218,                  0, 0.780604359527407]])"
      ]
     },
     "execution_count": 14,
     "metadata": {},
     "output_type": "execute_result"
    }
   ],
   "source": [
    "# Green Strain Tensor E\n",
    "\n",
    "E = 0.5*(Ft*F - I)\n",
    "E"
   ]
  },
  {
   "cell_type": "code",
   "execution_count": 15,
   "id": "26e340b1",
   "metadata": {},
   "outputs": [
    {
     "data": {
      "text/latex": [
       "$\\displaystyle \\left[\\begin{matrix}-0.723519453024916 & 0.491408662714399 & 0.766733847742535\\\\0.491408662714399 & -0.186745561236846 & -0.414550883085247\\\\0.766733847742535 & -0.414550883085247 & -0.16146410348152\\end{matrix}\\right]$"
      ],
      "text/plain": [
       "Matrix([\n",
       "[-0.723519453024916,  0.491408662714399,  0.766733847742535],\n",
       "[ 0.491408662714399, -0.186745561236846, -0.414550883085247],\n",
       "[ 0.766733847742535, -0.414550883085247,  -0.16146410348152]])"
      ]
     },
     "execution_count": 15,
     "metadata": {},
     "output_type": "execute_result"
    }
   ],
   "source": [
    "# Alamansi Strain Tensor e\n",
    "\n",
    "e = 0.5*(I - Ft_inv*F_inv)\n",
    "e"
   ]
  },
  {
   "cell_type": "code",
   "execution_count": 16,
   "id": "aae5631f",
   "metadata": {
    "scrolled": true
   },
   "outputs": [
    {
     "data": {
      "text/latex": [
       "$\\displaystyle \\left[\\begin{matrix}0.472721330589631 & 0 & 0\\\\0 & 0.472721330589631 & 0\\\\0 & 0 & 0.472721330589631\\end{matrix}\\right]$"
      ],
      "text/plain": [
       "Matrix([\n",
       "[0.472721330589631,                 0,                 0],\n",
       "[                0, 0.472721330589631,                 0],\n",
       "[                0,                 0, 0.472721330589631]])"
      ]
     },
     "execution_count": 16,
     "metadata": {},
     "output_type": "execute_result"
    }
   ],
   "source": [
    "# Green Strain Tensor Hydrostatic\n",
    "\n",
    "E_hyd = I * (1/3) * sym.trace(E)\n",
    "E_hyd"
   ]
  },
  {
   "cell_type": "code",
   "execution_count": 17,
   "id": "3e993c25",
   "metadata": {},
   "outputs": [
    {
     "data": {
      "text/latex": [
       "$\\displaystyle 5.55111512312578 \\cdot 10^{-17}$"
      ],
      "text/plain": [
       "5.55111512312578e-17"
      ]
     },
     "execution_count": 17,
     "metadata": {},
     "output_type": "execute_result"
    }
   ],
   "source": [
    "# Green Strain Tensor Deviatoric\n",
    "\n",
    "E_dev = E - E_hyd\n",
    "sym.trace(E_dev)               #  =~ 0"
   ]
  },
  {
   "cell_type": "code",
   "execution_count": 18,
   "id": "5f658f4b",
   "metadata": {},
   "outputs": [],
   "source": [
    "# Let us now use the same example of F to compute some other time dependent tensors.\n",
    "\n",
    "# Deformation Gradient F\n",
    "F = sym.Matrix([[F11,F12,F13], [F21,F22,F23], [F31,F32,F33]])\n",
    "\n",
    "# EXAMPLE OF F \n",
    "\n",
    "F11v=1\n",
    "F12v=2*sym.sin(t)\n",
    "F13v=0.5\n",
    "F21v=-0.333\n",
    "F22v=1\n",
    "F23v=-sym.sin(t)\n",
    "F31v=2*X*sym.sin(2*t)\n",
    "F32v=0\n",
    "F33v=1.5\n",
    "\n",
    "# (X,Y,Z) = (1,1,1)\n",
    "\n",
    "F=F.subs([(F11, F11v), (F12, F12v), \n",
    "          (F13, F13v), (F21, F21v), \n",
    "          (F22, F22v), (F23, F23v),\n",
    "          (F31, F31v), (F32, F32v), \n",
    "          (F33, F33v), (X,Xv), (Y, Yv), (Z, Zv)])"
   ]
  },
  {
   "cell_type": "code",
   "execution_count": 19,
   "id": "166fc1a4",
   "metadata": {},
   "outputs": [],
   "source": [
    "# Derivative of F with respect to time F_dot (dv/dX, where d/dX is the partial derivative with respect to current coordinates)\n",
    "\n",
    "# Let F be a function of time 't'\n",
    "\n",
    "F_dot11=2*sym.diff(F[0,0],t)\n",
    "F_dot12=2*sym.diff(F[0,1],t)\n",
    "F_dot13=2*sym.diff(F[0,2],t)\n",
    "F_dot21=2*sym.diff(F[1,0],t)\n",
    "F_dot22=2*sym.diff(F[1,1],t)\n",
    "F_dot23=2*sym.diff(F[1,2],t)\n",
    "F_dot31=2*sym.diff(F[2,0],t)\n",
    "F_dot32=2*sym.diff(F[2,1],t)\n",
    "F_dot33=2*sym.diff(F[2,2],t)\n",
    "F_dot = sym.Matrix([[F_dot11,F_dot12,F_dot13], [F_dot21,F_dot22,F_dot23], [F_dot31,F_dot32,F_dot33]])"
   ]
  },
  {
   "cell_type": "code",
   "execution_count": 20,
   "id": "9245610d",
   "metadata": {},
   "outputs": [
    {
     "data": {
      "text/latex": [
       "$\\displaystyle \\left[\\begin{matrix}0 & 4 \\cos{\\left(t \\right)} & 0\\\\0 & 0 & - 2 \\cos{\\left(t \\right)}\\\\8 \\cos{\\left(2 t \\right)} & 0 & 0\\end{matrix}\\right]$"
      ],
      "text/plain": [
       "Matrix([\n",
       "[         0, 4*cos(t),         0],\n",
       "[         0,        0, -2*cos(t)],\n",
       "[8*cos(2*t),        0,         0]])"
      ]
     },
     "execution_count": 20,
     "metadata": {},
     "output_type": "execute_result"
    }
   ],
   "source": [
    "F_dot"
   ]
  },
  {
   "cell_type": "code",
   "execution_count": 21,
   "id": "0ca13412",
   "metadata": {},
   "outputs": [
    {
     "data": {
      "text/latex": [
       "$\\displaystyle \\left[\\begin{matrix}8.0 \\sin{\\left(2 t \\right)} \\cos{\\left(2 t \\right)} + 3.83540430883362 \\cos{\\left(2 t \\right)} & 2.0 \\cos{\\left(t \\right)} & 0.333 \\cos{\\left(t \\right)} + 6.0 \\cos{\\left(2 t \\right)}\\\\2.0 \\cos{\\left(t \\right)} & 4.0 \\sin{\\left(t \\right)} \\cos{\\left(t \\right)} + 0.989615837018092 \\cos{\\left(t \\right)} & 0\\\\0.333 \\cos{\\left(t \\right)} + 6.0 \\cos{\\left(2 t \\right)} & 0 & 1.0 \\sin{\\left(t \\right)} \\cos{\\left(t \\right)} + 0.247403959254523 \\cos{\\left(t \\right)}\\end{matrix}\\right]$"
      ],
      "text/plain": [
       "Matrix([\n",
       "[8.0*sin(2*t)*cos(2*t) + 3.83540430883362*cos(2*t),                                   2.0*cos(t),                  0.333*cos(t) + 6.0*cos(2*t)],\n",
       "[                                       2.0*cos(t), 4.0*sin(t)*cos(t) + 0.989615837018092*cos(t),                                            0],\n",
       "[                      0.333*cos(t) + 6.0*cos(2*t),                                            0, 1.0*sin(t)*cos(t) + 0.247403959254523*cos(t)]])"
      ]
     },
     "execution_count": 21,
     "metadata": {},
     "output_type": "execute_result"
    }
   ],
   "source": [
    "# Derivative of E with respect to time E_dot\n",
    "\n",
    "E_dot = 0.5*(Ft*F_dot + sym.transpose(F_dot)*F)\n",
    "E_dot"
   ]
  },
  {
   "cell_type": "code",
   "execution_count": 22,
   "id": "3f9aa14e",
   "metadata": {},
   "outputs": [
    {
     "data": {
      "text/latex": [
       "$\\displaystyle \\left[\\begin{matrix}0.911987608737489 \\cos{\\left(t \\right)} & 3.54874130961456 \\cos{\\left(t \\right)} & 0.281319230666652 \\cos{\\left(t \\right)}\\\\1.66705838533532 \\cos{\\left(t \\right)} & - 0.824873689680823 \\cos{\\left(t \\right)} & - 2.02507080625306 \\cos{\\left(t \\right)}\\\\10.4315993898998 \\cos{\\left(2 t \\right)} & - 5.16163798083654 \\cos{\\left(2 t \\right)} & - 4.32853957843158 \\cos{\\left(2 t \\right)}\\end{matrix}\\right]$"
      ],
      "text/plain": [
       "Matrix([\n",
       "[ 0.911987608737489*cos(t),    3.54874130961456*cos(t),   0.281319230666652*cos(t)],\n",
       "[  1.66705838533532*cos(t),  -0.824873689680823*cos(t),   -2.02507080625306*cos(t)],\n",
       "[10.4315993898998*cos(2*t), -5.16163798083654*cos(2*t), -4.32853957843158*cos(2*t)]])"
      ]
     },
     "execution_count": 22,
     "metadata": {},
     "output_type": "execute_result"
    }
   ],
   "source": [
    "# Velocity Gradient l (dv/dx where d/dX is the partial derivative with respect to reference coordinates)\n",
    "\n",
    "L = F_dot * F_inv\n",
    "Lt = sym.transpose(L)\n",
    "L"
   ]
  },
  {
   "cell_type": "code",
   "execution_count": 23,
   "id": "a6a5d077",
   "metadata": {},
   "outputs": [
    {
     "data": {
      "text/latex": [
       "$\\displaystyle \\left[\\begin{matrix}0.911987608737489 \\cos{\\left(t \\right)} & 2.60789984747494 \\cos{\\left(t \\right)} & 0.140659615333326 \\cos{\\left(t \\right)} + 5.21579969494989 \\cos{\\left(2 t \\right)}\\\\2.60789984747494 \\cos{\\left(t \\right)} & - 0.824873689680823 \\cos{\\left(t \\right)} & - 1.01253540312653 \\cos{\\left(t \\right)} - 2.58081899041827 \\cos{\\left(2 t \\right)}\\\\0.140659615333326 \\cos{\\left(t \\right)} + 5.21579969494989 \\cos{\\left(2 t \\right)} & - 1.01253540312653 \\cos{\\left(t \\right)} - 2.58081899041827 \\cos{\\left(2 t \\right)} & - 4.32853957843158 \\cos{\\left(2 t \\right)}\\end{matrix}\\right]$"
      ],
      "text/plain": [
       "Matrix([\n",
       "[                            0.911987608737489*cos(t),                              2.60789984747494*cos(t), 0.140659615333326*cos(t) + 5.21579969494989*cos(2*t)],\n",
       "[                             2.60789984747494*cos(t),                            -0.824873689680823*cos(t), -1.01253540312653*cos(t) - 2.58081899041827*cos(2*t)],\n",
       "[0.140659615333326*cos(t) + 5.21579969494989*cos(2*t), -1.01253540312653*cos(t) - 2.58081899041827*cos(2*t),                           -4.32853957843158*cos(2*t)]])"
      ]
     },
     "execution_count": 23,
     "metadata": {},
     "output_type": "execute_result"
    }
   ],
   "source": [
    "# Deformation Rate Tensor D\n",
    "\n",
    "D = 0.5*(L + Lt)\n",
    "D"
   ]
  },
  {
   "cell_type": "code",
   "execution_count": 24,
   "id": "cdca7c96",
   "metadata": {},
   "outputs": [
    {
     "data": {
      "text/latex": [
       "$\\displaystyle \\left[\\begin{matrix}0 & 0.940841462139618 \\cos{\\left(t \\right)} & 0.140659615333326 \\cos{\\left(t \\right)} - 5.21579969494989 \\cos{\\left(2 t \\right)}\\\\- 0.940841462139618 \\cos{\\left(t \\right)} & 0 & - 1.01253540312653 \\cos{\\left(t \\right)} + 2.58081899041827 \\cos{\\left(2 t \\right)}\\\\- 0.140659615333326 \\cos{\\left(t \\right)} + 5.21579969494989 \\cos{\\left(2 t \\right)} & 1.01253540312653 \\cos{\\left(t \\right)} - 2.58081899041827 \\cos{\\left(2 t \\right)} & 0\\end{matrix}\\right]$"
      ],
      "text/plain": [
       "Matrix([\n",
       "[                                                    0,                            0.940841462139618*cos(t), 0.140659615333326*cos(t) - 5.21579969494989*cos(2*t)],\n",
       "[                            -0.940841462139618*cos(t),                                                   0, -1.01253540312653*cos(t) + 2.58081899041827*cos(2*t)],\n",
       "[-0.140659615333326*cos(t) + 5.21579969494989*cos(2*t), 1.01253540312653*cos(t) - 2.58081899041827*cos(2*t),                                                    0]])"
      ]
     },
     "execution_count": 24,
     "metadata": {},
     "output_type": "execute_result"
    }
   ],
   "source": [
    "# Spin Tensor W\n",
    "W = 0.5*(L - Lt)\n",
    "W"
   ]
  },
  {
   "cell_type": "code",
   "execution_count": null,
   "id": "0e0b0862",
   "metadata": {},
   "outputs": [],
   "source": []
  },
  {
   "cell_type": "code",
   "execution_count": 25,
   "id": "f794527f",
   "metadata": {},
   "outputs": [],
   "source": [
    "# True Stress or Cauchy Stress Tensor T\n",
    "T11 = sym.Symbol('T11') \n",
    "T12 = sym.Symbol('T12')\n",
    "T13 = sym.Symbol('T13')\n",
    "T21 = sym.Symbol('T21')\n",
    "T22 = sym.Symbol('T22')\n",
    "T23 = sym.Symbol('T23')\n",
    "T31 = sym.Symbol('T31')\n",
    "T32 = sym.Symbol('T32')\n",
    "T33 = sym.Symbol('T33')\n",
    "T = sym.Matrix([[T11,T12,T13], [T21,T22,T23], [T31,T32,T33]])"
   ]
  },
  {
   "cell_type": "code",
   "execution_count": 26,
   "id": "f70e9f6e",
   "metadata": {},
   "outputs": [],
   "source": [
    "# Will include an example for T"
   ]
  },
  {
   "cell_type": "code",
   "execution_count": 27,
   "id": "44774969",
   "metadata": {},
   "outputs": [],
   "source": [
    "# First Piola-KircHhoff Stress Tensor P\n",
    "\n",
    "P = Jac*T*Ft_inv"
   ]
  },
  {
   "cell_type": "code",
   "execution_count": 28,
   "id": "57e162b8",
   "metadata": {},
   "outputs": [],
   "source": [
    "# Second Piola-KircHhoff Stress Tensor S\n",
    "\n",
    "S = Jac*F_inv*T*Ft_inv"
   ]
  },
  {
   "cell_type": "code",
   "execution_count": 29,
   "id": "ad9ee9ff",
   "metadata": {},
   "outputs": [],
   "source": [
    "# Alternatively, if we have S and F and want to find T, as is the case in the Neo-Hooke and Mooney-Rivlin models:\n",
    "\n",
    "S11 = sym.Symbol('S11') \n",
    "S12 = sym.Symbol('S12')\n",
    "S13 = sym.Symbol('S13')\n",
    "S21 = sym.Symbol('S21')\n",
    "S22 = sym.Symbol('S22')\n",
    "S23 = sym.Symbol('S23')\n",
    "S31 = sym.Symbol('S31')\n",
    "S32 = sym.Symbol('S32')\n",
    "S33 = sym.Symbol('S33')\n",
    "S = sym.Matrix([[S11,S12,S13], [S21,S22,S23], [S31,S32,S33]])\n",
    "\n",
    "T=(1/Jac)*(F*S*Ft)"
   ]
  }
 ],
 "metadata": {
  "kernelspec": {
   "display_name": "Python 3 (ipykernel)",
   "language": "python",
   "name": "python3"
  },
  "language_info": {
   "codemirror_mode": {
    "name": "ipython",
    "version": 3
   },
   "file_extension": ".py",
   "mimetype": "text/x-python",
   "name": "python",
   "nbconvert_exporter": "python",
   "pygments_lexer": "ipython3",
   "version": "3.8.9"
  }
 },
 "nbformat": 4,
 "nbformat_minor": 5
}
